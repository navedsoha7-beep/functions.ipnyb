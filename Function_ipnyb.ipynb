{
  "nbformat": 4,
  "nbformat_minor": 0,
  "metadata": {
    "colab": {
      "provenance": [],
      "toc_visible": true
    },
    "kernelspec": {
      "name": "python3",
      "display_name": "Python 3"
    },
    "language_info": {
      "name": "python"
    }
  },
  "cells": [
    {
      "cell_type": "markdown",
      "source": [
        "#FUNCTIONS"
      ],
      "metadata": {
        "id": "PvUA3VjCvnIW"
      }
    },
    {
      "cell_type": "markdown",
      "source": [
        "#THEORY QUESTIONS"
      ],
      "metadata": {
        "id": "g-Av1KnMvrSH"
      }
    },
    {
      "cell_type": "markdown",
      "source": [
        "1.What is the difference between a function and a method in Python?\n",
        "\n",
        "  -Functions standalone block of code that can be called multiple times and can take arguments and return value while methods are functions that belongs to a class or object.\n",
        "\n",
        "  ex of function:\n",
        "  def greet(name):\n",
        "      print(f\"HI,{name}!\")\n",
        "  greet(\"Soha\")\n",
        "\n",
        "\n",
        "  #Output=HI,Soha!\n",
        "\n",
        "\n",
        "2. Explain the concept of function arguments and parameters in Python.\n",
        "\n",
        "    -Parameters: These are the names listed in the function definition. They act as placeholders for the values that will be passed into the function when it's called.\n",
        "\n",
        "    Arguments: These are the actual values that are passed into the function when it is called. The arguments correspond to the parameters defined in the function.\n",
        "   \n",
        "\n",
        "   example:\n",
        "\n",
        "   def add_numbers(a,c): # a and b are parameters\n",
        "  return a + c\n",
        "\n",
        "result = add_numbers(5, 8) # 5 and 8 are arguments\n",
        "\n",
        "\n",
        "#Output\n",
        "\n",
        "13\n",
        "\n",
        "\n",
        "3. What are the different ways to define and call a function in Python?\n",
        "\n",
        "   -There are various ways to define a function in Phython:\n",
        "\n",
        "    my_lambda_function = lambda parameter: expression\n",
        "\n",
        "\n",
        "    my_function(value1, value2)\n",
        "\n",
        "    or use def etc.\n",
        "\n",
        "\n",
        "\n",
        "4. What is the purpose of the `return` statement in a Python function?\n",
        "\n",
        "   -The return statement in Phython is used to exit a function or pass a value in a function.\n",
        "\n",
        "    ex:def add_numbers(a,c):\n",
        "        return a+c\n",
        "      add_numbers(3,8)\n",
        "\n",
        "\n",
        "  #Output:\n",
        "\n",
        "  11\n",
        "\n",
        "\n",
        "5. What are iterators in Python and how do they differ from iterables?\n",
        "\n",
        "\n",
        "    -Iterables:\n",
        "\n",
        "An iterable is an object that can be looped over. This means you can go through its elements one by one.\n",
        "Examples of iterables include lists, tuples, strings, and dictionaries.\n",
        "An object is considered iterable if it has an __iter__ method, which returns an iterator.\n",
        "\n",
        "\n",
        "Iterators:\n",
        "\n",
        "An iterator is an object that represents a stream of data. It's used to iterate over an iterable object.\n",
        "An iterator has a __next__ method, which returns the next item from the iterator. If there are no more items, it raises a StopIteration exception.\n",
        "You can get an iterator from an iterable by calling the iter() function on the iterable.\n",
        "\n",
        "\n",
        "6. Explain the concept of generators in Python and how they are defined.\n",
        "\n",
        "   -Generators in Python:\n",
        "\n",
        "Generators are a simple and powerful tool for creating iterators. They are functions that use the yield keyword instead of return to produce a sequence of values. When a generator function is called, it doesn't execute the code immediately. Instead, it returns a generator object, which is an iterator.\n",
        "\n",
        "How they are defined:\n",
        "\n",
        "Generators are defined like regular functions, but they use the yield keyword at least once. When yield is encountered, the function's state is saved, and the yielded value is returned. The next time the generator's __next__ method is called (e.g., in a for loop), the function resumes execution from where it left off, with all its local variables and state restored.\n",
        "\n",
        "Key characteristics of generators:\n",
        "\n",
        "Memory efficient: They generate values on the fly, one at a time, rather than creating the entire sequence in memory at once. This is especially useful for large datasets or infinite sequences.\n",
        "Lazy evaluation: Values are only produced when requested (when __next__ is called).\n",
        "Easy to implement: They are often simpler to write than traditional iterators using classes.\n",
        "Example:\n",
        "\n",
        "Consider the powers_of_two generator function we created earlier:\n",
        "\n",
        "\n",
        "\n",
        "\n",
        "7. What are the advantages of using generators over regular functions?\n",
        "\n",
        "\n",
        "     -Memory Efficiency: This is perhaps the most significant advantage. Regular functions that return lists or other sequences create the entire sequence in memory at once. For large datasets, this can consume a lot of memory and even lead to MemoryError. Generators, on the other hand, generate values on the fly, yielding one item at a time. They only keep track of their state between yield calls, making them highly memory efficient.\n",
        "\n",
        "Lazy Evaluation: Generators produce values only when they are requested (e.g., by a for loop or the next() function). This \"lazy\" evaluation is beneficial when you only need to process a few items from a potentially large sequence or when dealing with infinite sequences. Regular functions compute all values upfront.\n",
        "\n",
        "Improved Performance for Large Datasets: Due to their memory efficiency and lazy evaluation, generators can be faster than regular functions for processing large datasets, as they avoid the overhead of creating and storing the entire sequence in memory.\n",
        "\n",
        "Simpler Code for Iterators: Writing custom iterators using classes can be complex, requiring the implementation of __iter__ and __next__ methods and handling StopIteration. Generators provide a much simpler and more concise way to create iterators using the yield keyword.\n",
        "\n",
        "Handling Infinite Sequences: Generators can easily produce infinite sequences of data because they don't need to store the entire sequence in memory. Regular functions would struggle with this.\n",
        "\n",
        "Pipelining Operations: Generators can be chained together to create data processing pipelines. Each generator in the pipeline can perform a specific transformation on the data, and the data flows through the pipeline one item at a time, which is memory efficient.\n",
        "\n",
        "In summary, generators are particularly useful when you need to work with large datasets, perform lazy evaluation, or create custom iterators in a simple and memory-efficient way.\n",
        "\n",
        "\n",
        "\n",
        "\n",
        "8.  What is a lambda function in Python and when is it typically used?\n",
        "\n",
        "  -lambda function in Phython is used to solve easy functions in Phython it is easy to use and can also be used with map.\n",
        "\n",
        "\n",
        "  example:\n",
        "\n",
        "  list(map(lambda x,y:x+y  8,7))\n",
        "\n",
        "\n",
        "9. Explain the purpose and usage of the `map()` function in Python.\n",
        "\n",
        "\n",
        "     -Map in function executes a specified function for each of the iterable\n",
        "\n",
        "\n",
        "     ex:\n",
        "\n",
        "       def add(x):\n",
        "           return x+10\n",
        "      list(map(add,2))\n",
        "\n",
        "\n",
        "\n",
        "10. What is the difference between `map()`, `reduce()`, and `filter()` functions in Python?\n",
        "\n",
        "   -map():execute a specefied function for each iterable.\n",
        "\n",
        "   filter():constructs an iterator for each variable.\n",
        "\n",
        "\n",
        "  reduce():applies a function of two arguments.\n",
        "\n",
        "\n",
        "\n",
        "map() is for transforming each item.\n",
        "filter() is for selecting items.\n",
        "reduce() is for aggregating items into a single result.\n",
        "\n",
        "\n",
        "11. Using pen & Paper write the internal mechanism for sum operation using  reduce function on the given  list:[47,11,42,13];\n",
        "\n",
        "\n",
        "      -Image is not uploading....\n",
        "\n",
        "\n",
        "\n",
        "\n",
        "\n",
        "\n",
        "\n",
        "\n",
        "\n",
        "\n",
        "\n",
        "\n",
        "\n",
        "\n",
        "\n",
        "\n",
        "\n",
        "\n",
        "\n",
        "\n",
        "\n",
        "\n",
        "\n",
        "\n",
        "\n",
        "\n",
        "\n",
        "\n",
        "\n",
        "\n",
        "\n",
        "\n",
        "\n",
        "\n",
        "\n"
      ],
      "metadata": {
        "id": "gVHGXinrvuyT"
      }
    },
    {
      "cell_type": "markdown",
      "source": [
        "#PRACTICAL QUESTIONS"
      ],
      "metadata": {
        "id": "6VsYvOnK60Lu"
      }
    },
    {
      "cell_type": "code",
      "source": [
        "  # Write a Python function that takes a list of numbers as input and returns the sum of all even numbers in the list.\n",
        "\n",
        "\n",
        "\n",
        "  numbers =[1,2,3,4,5,6,7]\n",
        "  result=sum(filter(lambda x:x%2==0,numbers))\n",
        "  print(result)\n"
      ],
      "metadata": {
        "colab": {
          "base_uri": "https://localhost:8080/"
        },
        "id": "w0Yp2u_Y6-b2",
        "outputId": "92f6b316-f3eb-4242-e8d4-bec130b5cbda"
      },
      "execution_count": null,
      "outputs": [
        {
          "output_type": "stream",
          "name": "stdout",
          "text": [
            "12\n"
          ]
        }
      ]
    },
    {
      "cell_type": "code",
      "source": [
        "#  Create a Python function that accepts a string and returns the reverse of that string.\n",
        "\n",
        "\n",
        "string_name=\"Soha Naved\"\n",
        "print(string_name)\n",
        "string_name[::-1]"
      ],
      "metadata": {
        "colab": {
          "base_uri": "https://localhost:8080/",
          "height": 54
        },
        "id": "J6aLvicwOnuH",
        "outputId": "5b8052c6-4b03-4d2c-ceec-950ea90cdbb2"
      },
      "execution_count": 4,
      "outputs": [
        {
          "output_type": "stream",
          "name": "stdout",
          "text": [
            "Soha Naved\n"
          ]
        },
        {
          "output_type": "execute_result",
          "data": {
            "text/plain": [
              "'devaN ahoS'"
            ],
            "application/vnd.google.colaboratory.intrinsic+json": {
              "type": "string"
            }
          },
          "metadata": {},
          "execution_count": 4
        }
      ]
    },
    {
      "cell_type": "code",
      "source": [
        "#  Implement a Python function that takes a list of integers and returns a new list containing the squares of each number.\n",
        "\n",
        "integers =[1,2,3,4,5,6,7]\n",
        "\n",
        "list(map(lambda x:x**2,integers))\n",
        ""
      ],
      "metadata": {
        "colab": {
          "base_uri": "https://localhost:8080/"
        },
        "id": "_WPVQZQsPONU",
        "outputId": "b13d94ae-7f41-4475-9ec9-1f97bb588ca4"
      },
      "execution_count": 13,
      "outputs": [
        {
          "output_type": "execute_result",
          "data": {
            "text/plain": [
              "[1, 4, 9, 16, 25, 36, 49]"
            ]
          },
          "metadata": {},
          "execution_count": 13
        }
      ]
    },
    {
      "cell_type": "code",
      "source": [
        "# Write a Python function that checks if a given number is prime or not from 1 to 200.\n",
        "\n",
        "def is_prime(n):\n",
        "    if n <= 1:\n",
        "        return False\n",
        "    for i in range(2, int(n**0.5) + 1):\n",
        "        if n % i == 0:\n",
        "            return False\n",
        "    return True\n"
      ],
      "metadata": {
        "id": "NS-M59uCQiv6"
      },
      "execution_count": 17,
      "outputs": []
    },
    {
      "cell_type": "code",
      "source": [
        "#   Create an iterator class in Python that generates the Fibonacci sequence up to a specified number of terms.\n",
        "\n",
        "class FibonacciIterator:\n",
        "    \"\"\"\n",
        "    An iterator that generates the Fibonacci sequence up to a specified number of terms.\n",
        "    \"\"\"\n",
        "    def __init__(self, terms):\n",
        "        self.terms = terms\n",
        "        self.count = 0\n",
        "        self.a = 0\n",
        "        self.b = 1\n",
        "\n",
        "    def __iter__(self):\n",
        "        return self\n",
        "\n",
        "    def __next__(self):\n",
        "        if self.count < self.terms:\n",
        "            if self.count == 0:\n",
        "                self.count += 1\n",
        "                return self.a\n",
        "            elif self.count == 1:\n",
        "                self.count += 1\n",
        "                return self.b\n",
        "            else:\n",
        "                next_fib = self.a + self.b\n",
        "                self.a = self.b\n",
        "                self.b = next_fib\n",
        "                self.count += 1\n",
        "                return next_fib\n",
        "        else:\n",
        "            raise StopIteration"
      ],
      "metadata": {
        "id": "Qb36tideSr_o"
      },
      "execution_count": 20,
      "outputs": []
    },
    {
      "cell_type": "code",
      "source": [
        "#  Write a generator function in Python that yields the powers of 2 up to a given exponent.\n",
        "\n",
        "def powers_of_two(exponent):\n",
        "    for i in range(exponent + 1):\n",
        "        yield 2 ** i\n",
        "print(list(powers_of_two(5)))\n"
      ],
      "metadata": {
        "colab": {
          "base_uri": "https://localhost:8080/"
        },
        "id": "IS5kMJwfSxEU",
        "outputId": "e5953c81-5d82-4bb5-e952-d9253891bbf2"
      },
      "execution_count": 23,
      "outputs": [
        {
          "output_type": "stream",
          "name": "stdout",
          "text": [
            "[1, 2, 4, 8, 16, 32]\n"
          ]
        }
      ]
    },
    {
      "cell_type": "code",
      "source": [
        "#  Implement a generator function that reads a file line by line and yields each line as a string.\n",
        "\n",
        "  def read_file_line_by_line(filename):\n",
        "    with open(filename, 'r') as file:\n",
        "        for line in file:\n",
        "            yield line.strip()\n",
        "\n"
      ],
      "metadata": {
        "collapsed": true,
        "id": "lfrA5EF4T7f4",
        "outputId": "47dfe13a-b6c7-4c3e-dc6b-99633ba2978d",
        "colab": {
          "base_uri": "https://localhost:8080/",
          "height": 110
        }
      },
      "execution_count": 39,
      "outputs": [
        {
          "output_type": "error",
          "ename": "IndentationError",
          "evalue": "unexpected indent (ipython-input-3689917855.py, line 3)",
          "traceback": [
            "\u001b[0;36m  File \u001b[0;32m\"/tmp/ipython-input-3689917855.py\"\u001b[0;36m, line \u001b[0;32m3\u001b[0m\n\u001b[0;31m    def read_file_line_by_line(filename):\u001b[0m\n\u001b[0m    ^\u001b[0m\n\u001b[0;31mIndentationError\u001b[0m\u001b[0;31m:\u001b[0m unexpected indent\n"
          ]
        }
      ]
    },
    {
      "cell_type": "code",
      "source": [
        "# Use a lambda function in Python to sort a list of tuples based on the second element of each tuple.\n",
        "\n",
        "\n",
        "tuples_list=[(2,8),(6,8),(6,5)]\n",
        "sorted_list=sorted(tuples_list,key=lambda x:x[1])\n",
        "print(sorted_list)\n",
        "\n",
        "\n",
        ""
      ],
      "metadata": {
        "id": "ZDc8nlbAUgi1",
        "outputId": "3e8e036d-0a0a-4d4b-c877-28e6fad4d085",
        "colab": {
          "base_uri": "https://localhost:8080/"
        }
      },
      "execution_count": 49,
      "outputs": [
        {
          "output_type": "stream",
          "name": "stdout",
          "text": [
            "[(6, 5), (2, 8), (6, 8)]\n"
          ]
        }
      ]
    },
    {
      "cell_type": "code",
      "source": [
        " # Write a Python program that uses `map()` to convert a list of temperatures from Celsius to Fahrenheit.\n",
        "\n",
        "\n",
        " celsius_temps = [0, 10, 20, 30, 40]\n",
        "\n",
        "fahrenheit_temps = list(map(lambda x: (x * 9/5) + 32, celsius_temps))\n",
        "\n",
        "print(fahrenheit_temps)"
      ],
      "metadata": {
        "id": "mpclb_6dWAvP",
        "outputId": "5326626e-4dad-4335-8c8b-d81ff7739e5d",
        "colab": {
          "base_uri": "https://localhost:8080/"
        }
      },
      "execution_count": 52,
      "outputs": [
        {
          "output_type": "stream",
          "name": "stdout",
          "text": [
            "[32.0, 50.0, 68.0, 86.0, 104.0]\n"
          ]
        }
      ]
    },
    {
      "cell_type": "code",
      "source": [
        "# Create a Python program that uses `filter()` to remove all the vowels from a given string.\n",
        "\n",
        "s = \"Hello, World!\"\n",
        "no_vowels = ''.join(filter(lambda x: x.lower() not in 'aeiou', s))\n",
        "print(\"Original String:\", s)\n",
        "print(\"String without Vowels:\", no_vowels)\n"
      ],
      "metadata": {
        "id": "rkzlz3nMWuty",
        "outputId": "bea8d27d-872c-42ce-90e8-071cda64f125",
        "colab": {
          "base_uri": "https://localhost:8080/"
        }
      },
      "execution_count": 55,
      "outputs": [
        {
          "output_type": "stream",
          "name": "stdout",
          "text": [
            "Original String: Hello, World!\n",
            "String without Vowels: Hll, Wrld!\n"
          ]
        }
      ]
    },
    {
      "cell_type": "code",
      "source": [
        "#Imagine an accounting routine used in a book shop. It works on a list with sublists, which look like this:\n",
        " Write a Python program, which returns a list with 2-tuples. Each tuple consists of the order number and the\n",
        "product of the price per item and the quantity. The product should be increased by 10,- € if the value of the\n",
        "order is smaller than 100,00 €.\n",
        " Write a Python program using lambda and map.\n",
        "\n",
        "\n",
        "  orders = [ [1, (\"5464\", 4, 9.99), (\"8274\",18,12.99), (\"9744\","
      ],
      "metadata": {
        "id": "uS_cXgcdXUDd",
        "outputId": "1cb2496a-c3fb-43e6-8af5-acbbc947bb1a",
        "colab": {
          "base_uri": "https://localhost:8080/",
          "height": 110
        }
      },
      "execution_count": 56,
      "outputs": [
        {
          "output_type": "error",
          "ename": "IndentationError",
          "evalue": "unexpected indent (ipython-input-3634806640.py, line 2)",
          "traceback": [
            "\u001b[0;36m  File \u001b[0;32m\"/tmp/ipython-input-3634806640.py\"\u001b[0;36m, line \u001b[0;32m2\u001b[0m\n\u001b[0;31m    Write a Python program, which returns a list with 2-tuples. Each tuple consists of the order number and the\u001b[0m\n\u001b[0m    ^\u001b[0m\n\u001b[0;31mIndentationError\u001b[0m\u001b[0;31m:\u001b[0m unexpected indent\n"
          ]
        }
      ]
    }
  ]
}